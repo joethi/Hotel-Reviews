{
 "cells": [
  {
   "cell_type": "code",
   "execution_count": 9,
   "metadata": {},
   "outputs": [],
   "source": [
    "predicted_labels = [1, 1, 1, 1, 0]\n",
    "true_labels = [1, 0, 0, 1, 0]\n",
    "# condition = (predicted_labels == 1) & (true_labels == 0)\n",
    "# false_positives = sum((predicted_labels == 1) & (true_labels == 0))"
   ]
  },
  {
   "cell_type": "code",
   "execution_count": 10,
   "metadata": {},
   "outputs": [],
   "source": [
    "true_positives = 0\n",
    "false_positives = 0\n",
    "\n",
    "for pred, true in zip(predicted_labels, true_labels):\n",
    "    if pred == 1 and true == 1:\n",
    "        true_positives += 1\n",
    "    elif pred == 1 and true == 0:\n",
    "        false_positives += 1"
   ]
  },
  {
   "cell_type": "code",
   "execution_count": 11,
   "metadata": {},
   "outputs": [
    {
     "data": {
      "text/plain": [
       "2"
      ]
     },
     "execution_count": 11,
     "metadata": {},
     "output_type": "execute_result"
    }
   ],
   "source": [
    "true_positives"
   ]
  },
  {
   "cell_type": "code",
   "execution_count": 12,
   "metadata": {},
   "outputs": [
    {
     "data": {
      "text/plain": [
       "2"
      ]
     },
     "execution_count": 12,
     "metadata": {},
     "output_type": "execute_result"
    }
   ],
   "source": [
    "false_positives"
   ]
  },
  {
   "cell_type": "code",
   "execution_count": 14,
   "metadata": {},
   "outputs": [
    {
     "data": {
      "text/plain": [
       "[1, 1, 0, 0, 0, 0, 0]"
      ]
     },
     "execution_count": 14,
     "metadata": {},
     "output_type": "execute_result"
    }
   ],
   "source": [
    "[1]*2 + [0]*5"
   ]
  },
  {
   "cell_type": "code",
   "execution_count": 26,
   "metadata": {},
   "outputs": [
    {
     "name": "stdout",
     "output_type": "stream",
     "text": [
      "probabilities:  [0.33333333 0.66666667]\n",
      "[0 0 1]\n"
     ]
    }
   ],
   "source": [
    "import numpy as np\n",
    "def predict_random(train_labels, num_samples):\n",
    "    \"\"\"\n",
    "    Predicts the label num_samples times based on the distribution of labels in train_labels.\n",
    "    \n",
    "    Args:\n",
    "    train_labels (list or array): List or array of true labels.\n",
    "    num_samples (int): The number of predictions to generate.\n",
    "    \n",
    "    Returns:\n",
    "    np.array: Predicted labels based on the distribution.\n",
    "    \"\"\"\n",
    "    # Calculate the distribution of labels\n",
    "    unique_labels, counts = np.unique(train_labels, return_counts=True)\n",
    "    probabilities = counts / len(train_labels)  # Get the probability of each label\n",
    "    print(\"probabilities: \", probabilities)\n",
    "    # Predict labels according to the calculated probabilities\n",
    "    predictions = np.random.choice(unique_labels, size=num_samples, p=probabilities)\n",
    "    \n",
    "    return predictions\n",
    "\n",
    "# Example usage\n",
    "rc_labels = np.array([1]*10 + [0]*5, dtype=int)\n",
    "rc_predictions = predict_random(rc_labels, 3)\n",
    "print(rc_predictions)"
   ]
  },
  {
   "cell_type": "code",
   "execution_count": 23,
   "metadata": {},
   "outputs": [
    {
     "data": {
      "text/plain": [
       "array([0, 1, 2, 3, 4])"
      ]
     },
     "execution_count": 23,
     "metadata": {},
     "output_type": "execute_result"
    }
   ],
   "source": [
    "np.arange(5) "
   ]
  },
  {
   "cell_type": "code",
   "execution_count": 1,
   "metadata": {},
   "outputs": [
    {
     "data": {
      "text/plain": [
       "'oh my kadavule, adinga'"
      ]
     },
     "execution_count": 1,
     "metadata": {},
     "output_type": "execute_result"
    }
   ],
   "source": [
    "text = \"Oh MY KADAVULE, ADINga\"\n",
    "text.lower()"
   ]
  },
  {
   "cell_type": "code",
   "execution_count": null,
   "metadata": {},
   "outputs": [],
   "source": []
  },
  {
   "cell_type": "code",
   "execution_count": null,
   "metadata": {},
   "outputs": [],
   "source": []
  }
 ],
 "metadata": {
  "kernelspec": {
   "display_name": "Azure_end_to_end_project",
   "language": "python",
   "name": "python3"
  },
  "language_info": {
   "codemirror_mode": {
    "name": "ipython",
    "version": 3
   },
   "file_extension": ".py",
   "mimetype": "text/x-python",
   "name": "python",
   "nbconvert_exporter": "python",
   "pygments_lexer": "ipython3",
   "version": "3.12.2"
  }
 },
 "nbformat": 4,
 "nbformat_minor": 2
}
